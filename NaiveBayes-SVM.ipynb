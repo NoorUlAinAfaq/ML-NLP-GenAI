{
 "cells": [
  {
   "cell_type": "code",
   "execution_count": 71,
   "id": "aae1c8aa-ecaf-46c0-825e-0569b55d4c5c",
   "metadata": {},
   "outputs": [],
   "source": [
    "import pandas as pd\n",
    "import numpy as np"
   ]
  },
  {
   "cell_type": "code",
   "execution_count": 72,
   "id": "5a249c45-487f-4e97-9ff5-2668b57d3973",
   "metadata": {},
   "outputs": [],
   "source": [
    "df = pd.read_csv('Corona_NLP_train.csv', encoding='latin-1')"
   ]
  },
  {
   "cell_type": "code",
   "execution_count": 73,
   "id": "32c7bb0d-9e10-4d26-90c3-9698d0b16303",
   "metadata": {},
   "outputs": [
    {
     "data": {
      "text/html": [
       "<div>\n",
       "<style scoped>\n",
       "    .dataframe tbody tr th:only-of-type {\n",
       "        vertical-align: middle;\n",
       "    }\n",
       "\n",
       "    .dataframe tbody tr th {\n",
       "        vertical-align: top;\n",
       "    }\n",
       "\n",
       "    .dataframe thead th {\n",
       "        text-align: right;\n",
       "    }\n",
       "</style>\n",
       "<table border=\"1\" class=\"dataframe\">\n",
       "  <thead>\n",
       "    <tr style=\"text-align: right;\">\n",
       "      <th></th>\n",
       "      <th>UserName</th>\n",
       "      <th>ScreenName</th>\n",
       "      <th>Location</th>\n",
       "      <th>TweetAt</th>\n",
       "      <th>OriginalTweet</th>\n",
       "      <th>Sentiment</th>\n",
       "    </tr>\n",
       "  </thead>\n",
       "  <tbody>\n",
       "    <tr>\n",
       "      <th>0</th>\n",
       "      <td>3799</td>\n",
       "      <td>48751</td>\n",
       "      <td>London</td>\n",
       "      <td>16-03-2020</td>\n",
       "      <td>@MeNyrbie @Phil_Gahan @Chrisitv https://t.co/i...</td>\n",
       "      <td>Neutral</td>\n",
       "    </tr>\n",
       "    <tr>\n",
       "      <th>1</th>\n",
       "      <td>3800</td>\n",
       "      <td>48752</td>\n",
       "      <td>UK</td>\n",
       "      <td>16-03-2020</td>\n",
       "      <td>advice Talk to your neighbours family to excha...</td>\n",
       "      <td>Positive</td>\n",
       "    </tr>\n",
       "    <tr>\n",
       "      <th>2</th>\n",
       "      <td>3801</td>\n",
       "      <td>48753</td>\n",
       "      <td>Vagabonds</td>\n",
       "      <td>16-03-2020</td>\n",
       "      <td>Coronavirus Australia: Woolworths to give elde...</td>\n",
       "      <td>Positive</td>\n",
       "    </tr>\n",
       "    <tr>\n",
       "      <th>3</th>\n",
       "      <td>3802</td>\n",
       "      <td>48754</td>\n",
       "      <td>NaN</td>\n",
       "      <td>16-03-2020</td>\n",
       "      <td>My food stock is not the only one which is emp...</td>\n",
       "      <td>Positive</td>\n",
       "    </tr>\n",
       "    <tr>\n",
       "      <th>4</th>\n",
       "      <td>3803</td>\n",
       "      <td>48755</td>\n",
       "      <td>NaN</td>\n",
       "      <td>16-03-2020</td>\n",
       "      <td>Me, ready to go at supermarket during the #COV...</td>\n",
       "      <td>Extremely Negative</td>\n",
       "    </tr>\n",
       "  </tbody>\n",
       "</table>\n",
       "</div>"
      ],
      "text/plain": [
       "   UserName  ScreenName   Location     TweetAt  \\\n",
       "0      3799       48751     London  16-03-2020   \n",
       "1      3800       48752         UK  16-03-2020   \n",
       "2      3801       48753  Vagabonds  16-03-2020   \n",
       "3      3802       48754        NaN  16-03-2020   \n",
       "4      3803       48755        NaN  16-03-2020   \n",
       "\n",
       "                                       OriginalTweet           Sentiment  \n",
       "0  @MeNyrbie @Phil_Gahan @Chrisitv https://t.co/i...             Neutral  \n",
       "1  advice Talk to your neighbours family to excha...            Positive  \n",
       "2  Coronavirus Australia: Woolworths to give elde...            Positive  \n",
       "3  My food stock is not the only one which is emp...            Positive  \n",
       "4  Me, ready to go at supermarket during the #COV...  Extremely Negative  "
      ]
     },
     "execution_count": 73,
     "metadata": {},
     "output_type": "execute_result"
    }
   ],
   "source": [
    "df.head()\n"
   ]
  },
  {
   "cell_type": "code",
   "execution_count": 74,
   "id": "22e7ddb4-2204-4cd1-bbb4-a60bec651f7a",
   "metadata": {},
   "outputs": [
    {
     "data": {
      "text/html": [
       "<div>\n",
       "<style scoped>\n",
       "    .dataframe tbody tr th:only-of-type {\n",
       "        vertical-align: middle;\n",
       "    }\n",
       "\n",
       "    .dataframe tbody tr th {\n",
       "        vertical-align: top;\n",
       "    }\n",
       "\n",
       "    .dataframe thead th {\n",
       "        text-align: right;\n",
       "    }\n",
       "</style>\n",
       "<table border=\"1\" class=\"dataframe\">\n",
       "  <thead>\n",
       "    <tr style=\"text-align: right;\">\n",
       "      <th></th>\n",
       "      <th>OriginalTweet</th>\n",
       "      <th>Sentiment</th>\n",
       "    </tr>\n",
       "  </thead>\n",
       "  <tbody>\n",
       "    <tr>\n",
       "      <th>0</th>\n",
       "      <td>@MeNyrbie @Phil_Gahan @Chrisitv https://t.co/i...</td>\n",
       "      <td>Neutral</td>\n",
       "    </tr>\n",
       "    <tr>\n",
       "      <th>1</th>\n",
       "      <td>advice Talk to your neighbours family to excha...</td>\n",
       "      <td>Positive</td>\n",
       "    </tr>\n",
       "    <tr>\n",
       "      <th>2</th>\n",
       "      <td>Coronavirus Australia: Woolworths to give elde...</td>\n",
       "      <td>Positive</td>\n",
       "    </tr>\n",
       "    <tr>\n",
       "      <th>3</th>\n",
       "      <td>My food stock is not the only one which is emp...</td>\n",
       "      <td>Positive</td>\n",
       "    </tr>\n",
       "    <tr>\n",
       "      <th>4</th>\n",
       "      <td>Me, ready to go at supermarket during the #COV...</td>\n",
       "      <td>Extremely Negative</td>\n",
       "    </tr>\n",
       "  </tbody>\n",
       "</table>\n",
       "</div>"
      ],
      "text/plain": [
       "                                       OriginalTweet           Sentiment\n",
       "0  @MeNyrbie @Phil_Gahan @Chrisitv https://t.co/i...             Neutral\n",
       "1  advice Talk to your neighbours family to excha...            Positive\n",
       "2  Coronavirus Australia: Woolworths to give elde...            Positive\n",
       "3  My food stock is not the only one which is emp...            Positive\n",
       "4  Me, ready to go at supermarket during the #COV...  Extremely Negative"
      ]
     },
     "execution_count": 74,
     "metadata": {},
     "output_type": "execute_result"
    }
   ],
   "source": [
    "df = df[['OriginalTweet', 'Sentiment']]\n",
    "df.head()"
   ]
  },
  {
   "cell_type": "code",
   "execution_count": 75,
   "id": "b533c4e4-c3d2-4a3e-984e-b742c8cc0144",
   "metadata": {},
   "outputs": [],
   "source": [
    "from sklearn.model_selection import train_test_split\n",
    "X_train, X_test, y_train, y_test = train_test_split(df['OriginalTweet'], df['Sentiment'], test_size=0.2, random_state=42)"
   ]
  },
  {
   "cell_type": "code",
   "execution_count": 76,
   "id": "74ff7931-3a9e-443e-914c-41494cc9c8de",
   "metadata": {},
   "outputs": [],
   "source": [
    "from sklearn.feature_extraction.text import CountVectorizer\n",
    "vectorizer = CountVectorizer()\n",
    "X_train_bow = vectorizer.fit_transform(X_train)  # Fit and transform training data\n",
    "X_test_bow = vectorizer.transform(X_test) "
   ]
  },
  {
   "cell_type": "code",
   "execution_count": 77,
   "id": "cf32614b-c740-43c9-b7e6-888aa8deaac5",
   "metadata": {},
   "outputs": [],
   "source": [
    "def evaluate_model(model, X_test, y_test):\n",
    "    y_pred = model.predict(X_test)\n",
    "    print(f\"Accuracy: {accuracy_score(y_test, y_pred):.2f}\")\n",
    "    print(\"Classification Report:\")\n",
    "    print(classification_report(y_test, y_pred))\n",
    "    print(\"Confusion Matrix:\")\n",
    "    print(confusion_matrix(y_test, y_pred))\n",
    "    print(\"\\n\")"
   ]
  },
  {
   "cell_type": "code",
   "execution_count": 78,
   "id": "35ec3f24-0282-4314-a9cb-f18d5ae1a2eb",
   "metadata": {},
   "outputs": [
    {
     "name": "stdout",
     "output_type": "stream",
     "text": [
      "Naïve Bayes Results:\n",
      "Accuracy: 0.46\n",
      "Classification Report:\n",
      "                    precision    recall  f1-score   support\n",
      "\n",
      "Extremely Negative       0.67      0.22      0.33      1056\n",
      "Extremely Positive       0.64      0.31      0.42      1330\n",
      "          Negative       0.42      0.52      0.47      2006\n",
      "           Neutral       0.77      0.28      0.41      1553\n",
      "          Positive       0.40      0.72      0.51      2287\n",
      "\n",
      "          accuracy                           0.46      8232\n",
      "         macro avg       0.58      0.41      0.43      8232\n",
      "      weighted avg       0.55      0.46      0.44      8232\n",
      "\n",
      "Confusion Matrix:\n",
      "[[ 234    5  638   15  164]\n",
      " [   2  412   70    9  837]\n",
      " [  91   35 1051   57  772]\n",
      " [  10   27  349  441  726]\n",
      " [  12  169  403   51 1652]]\n",
      "\n",
      "\n"
     ]
    }
   ],
   "source": [
    "from sklearn.metrics import accuracy_score, classification_report, confusion_matrix\n",
    "from sklearn.naive_bayes import MultinomialNB\n",
    "print(\"Naïve Bayes Results:\")\n",
    "nb_model = MultinomialNB()\n",
    "nb_model.fit(X_train_bow, y_train)\n",
    "evaluate_model(nb_model, X_test_bow, y_test)"
   ]
  },
  {
   "cell_type": "code",
   "execution_count": 79,
   "id": "6651cb61-0978-49da-a665-5bdda2b3dc8c",
   "metadata": {},
   "outputs": [
    {
     "name": "stdout",
     "output_type": "stream",
     "text": [
      "Logistic Regression Results:\n",
      "Accuracy: 0.63\n",
      "Classification Report:\n",
      "                    precision    recall  f1-score   support\n",
      "\n",
      "Extremely Negative       0.67      0.58      0.62      1056\n",
      "Extremely Positive       0.72      0.64      0.68      1330\n",
      "          Negative       0.56      0.55      0.56      2006\n",
      "           Neutral       0.66      0.74      0.69      1553\n",
      "          Positive       0.59      0.63      0.61      2287\n",
      "\n",
      "          accuracy                           0.63      8232\n",
      "         macro avg       0.64      0.63      0.63      8232\n",
      "      weighted avg       0.63      0.63      0.63      8232\n",
      "\n",
      "Confusion Matrix:\n",
      "[[ 612   12  365   34   33]\n",
      " [   8  853   28   28  413]\n",
      " [ 240   49 1106  275  336]\n",
      " [  16   21  167 1143  206]\n",
      " [  41  249  299  260 1438]]\n",
      "\n",
      "\n"
     ]
    }
   ],
   "source": [
    "from sklearn.linear_model import LogisticRegression\n",
    "print(\"Logistic Regression Results:\")\n",
    "lr_model = LogisticRegression(max_iter= 500)\n",
    "lr_model.fit(X_train_bow, y_train)\n",
    "evaluate_model(lr_model, X_test_bow, y_test)"
   ]
  },
  {
   "cell_type": "code",
   "execution_count": 80,
   "id": "8a9cff8d-6829-4e2e-a20c-55fb4dc6fa28",
   "metadata": {},
   "outputs": [
    {
     "name": "stdout",
     "output_type": "stream",
     "text": [
      "SVM Results:\n",
      "Accuracy: 0.55\n",
      "Classification Report:\n",
      "                    precision    recall  f1-score   support\n",
      "\n",
      "Extremely Negative       0.64      0.62      0.63      1056\n",
      "Extremely Positive       0.65      0.65      0.65      1330\n",
      "          Negative       0.48      0.45      0.46      2006\n",
      "           Neutral       0.59      0.66      0.62      1553\n",
      "          Positive       0.50      0.48      0.49      2287\n",
      "\n",
      "          accuracy                           0.55      8232\n",
      "         macro avg       0.57      0.57      0.57      8232\n",
      "      weighted avg       0.55      0.55      0.55      8232\n",
      "\n",
      "Confusion Matrix:\n",
      "[[ 651   11  304   39   51]\n",
      " [   6  858   63   38  365]\n",
      " [ 291   67  907  300  441]\n",
      " [  28   29  203 1030  263]\n",
      " [  46  358  432  348 1103]]\n",
      "\n",
      "\n"
     ]
    }
   ],
   "source": [
    "from sklearn.svm import SVC\n",
    "print(\"SVM Results:\")\n",
    "from sklearn.svm import LinearSVC\n",
    "svm_model = LinearSVC(max_iter=10000)\n",
    "svm_model.fit(X_train_bow, y_train)\n",
    "evaluate_model(svm_model, X_test_bow, y_test)"
   ]
  },
  {
   "cell_type": "code",
   "execution_count": 81,
   "id": "5a742151-f71a-43cd-8e73-6d51e2260a5c",
   "metadata": {},
   "outputs": [],
   "source": [
    "def preprocess_text(text):\n",
    "    # Remove punctuation\n",
    "    text = text.translate(str.maketrans('', '', string.punctuation))\n",
    "    # Remove stop words\n",
    "    stop_words = set(stopwords.words('english'))\n",
    "    text = ' '.join([word for word in text.split() if word.lower() not in stop_words])\n",
    "    return text"
   ]
  },
  {
   "cell_type": "code",
   "execution_count": 82,
   "id": "a94f1007-a325-4def-9b3e-4e54d6a9e2fa",
   "metadata": {},
   "outputs": [],
   "source": [
    "import string\n",
    "from nltk.corpus import stopwords\n",
    "df_SWR = df[['OriginalTweet', 'Sentiment']].copy()\n",
    "df_SWR.loc[:, 'OriginalTweet'] = df_SWR['OriginalTweet'].apply(preprocess_text)"
   ]
  },
  {
   "cell_type": "code",
   "execution_count": 83,
   "id": "40f14b68-a598-4dd7-b20b-9ac35fae30c4",
   "metadata": {},
   "outputs": [],
   "source": [
    "X_train_SWR, X_test_SWR, y_train_SWR, y_test_SWR = train_test_split(df['OriginalTweet'], df['Sentiment'], test_size=0.3, random_state=42)"
   ]
  },
  {
   "cell_type": "code",
   "execution_count": 84,
   "id": "32cf480b-f66e-4ead-9c1d-a86861fec8fc",
   "metadata": {},
   "outputs": [],
   "source": [
    "vectorizer = CountVectorizer()\n",
    "X_train_SWR_bow = vectorizer.fit_transform(X_train_SWR) \n",
    "X_test_SWR_bow = vectorizer.transform(X_test_SWR)  "
   ]
  },
  {
   "cell_type": "code",
   "execution_count": 85,
   "id": "b478cd37-1681-45f9-b6d1-9bc4c33ea130",
   "metadata": {},
   "outputs": [
    {
     "name": "stdout",
     "output_type": "stream",
     "text": [
      "Naïve Bayes Results AFTER REMOVING STOPWORDS AND PUNCTUATIONS:\n",
      "Accuracy: 0.45\n",
      "Classification Report:\n",
      "                    precision    recall  f1-score   support\n",
      "\n",
      "Extremely Negative       0.63      0.21      0.32      1572\n",
      "Extremely Positive       0.62      0.31      0.41      1989\n",
      "          Negative       0.41      0.51      0.45      3005\n",
      "           Neutral       0.75      0.27      0.40      2292\n",
      "          Positive       0.39      0.71      0.51      3490\n",
      "\n",
      "          accuracy                           0.45     12348\n",
      "         macro avg       0.56      0.40      0.42     12348\n",
      "      weighted avg       0.53      0.45      0.43     12348\n",
      "\n",
      "Confusion Matrix:\n",
      "[[ 337    7  954   19  255]\n",
      " [   5  609   92   14 1269]\n",
      " [ 158   51 1538   83 1175]\n",
      " [  16   44  522  622 1088]\n",
      " [  18  266  653   92 2461]]\n",
      "\n",
      "\n"
     ]
    }
   ],
   "source": [
    "print(\"Naïve Bayes Results AFTER REMOVING STOPWORDS AND PUNCTUATIONS:\")\n",
    "nb_model = MultinomialNB()\n",
    "nb_model.fit(X_train_SWR_bow, y_train_SWR)\n",
    "evaluate_model(nb_model, X_test_SWR_bow, y_test_SWR)"
   ]
  },
  {
   "cell_type": "code",
   "execution_count": 86,
   "id": "b91a41d1-5df8-4e95-b33d-0925575456a5",
   "metadata": {},
   "outputs": [
    {
     "name": "stdout",
     "output_type": "stream",
     "text": [
      "Logistic Regression Results AFTER REMOVING STOPWORDS AND PUNCTUATIONS:\n",
      "Accuracy: 0.61\n",
      "Classification Report:\n",
      "                    precision    recall  f1-score   support\n",
      "\n",
      "Extremely Negative       0.65      0.58      0.61      1572\n",
      "Extremely Positive       0.69      0.62      0.65      1989\n",
      "          Negative       0.54      0.53      0.54      3005\n",
      "           Neutral       0.63      0.74      0.68      2292\n",
      "          Positive       0.58      0.59      0.58      3490\n",
      "\n",
      "          accuracy                           0.61     12348\n",
      "         macro avg       0.62      0.61      0.61     12348\n",
      "      weighted avg       0.61      0.61      0.60     12348\n",
      "\n",
      "Confusion Matrix:\n",
      "[[ 905   24  533   60   50]\n",
      " [  11 1232   43   50  653]\n",
      " [ 398   76 1600  432  499]\n",
      " [  16   26  266 1686  298]\n",
      " [  70  416  513  435 2056]]\n",
      "\n",
      "\n"
     ]
    }
   ],
   "source": [
    "print(\"Logistic Regression Results AFTER REMOVING STOPWORDS AND PUNCTUATIONS:\")\n",
    "lr_model = LogisticRegression(max_iter=1000)\n",
    "lr_model.fit(X_train_SWR_bow, y_train_SWR)\n",
    "evaluate_model(lr_model, X_test_SWR_bow, y_test_SWR)"
   ]
  },
  {
   "cell_type": "code",
   "execution_count": 87,
   "id": "709df8aa-d31f-4422-a358-24b86fd3ce94",
   "metadata": {},
   "outputs": [
    {
     "name": "stdout",
     "output_type": "stream",
     "text": [
      "SVM Results AFTER REMOVING STOPWORDS AND PUNCTUATIONS:\n",
      "Accuracy: 0.54\n",
      "Classification Report:\n",
      "                    precision    recall  f1-score   support\n",
      "\n",
      "Extremely Negative       0.60      0.61      0.60      1572\n",
      "Extremely Positive       0.64      0.63      0.64      1989\n",
      "          Negative       0.46      0.43      0.44      3005\n",
      "           Neutral       0.58      0.68      0.62      2292\n",
      "          Positive       0.50      0.47      0.48      3490\n",
      "\n",
      "          accuracy                           0.54     12348\n",
      "         macro avg       0.55      0.56      0.56     12348\n",
      "      weighted avg       0.54      0.54      0.54     12348\n",
      "\n",
      "Confusion Matrix:\n",
      "[[ 956   18  447   63   88]\n",
      " [  15 1256   90   56  572]\n",
      " [ 509   98 1287  463  648]\n",
      " [  33   41  300 1553  365]\n",
      " [  87  545  673  545 1640]]\n",
      "\n",
      "\n"
     ]
    }
   ],
   "source": [
    "print(\"SVM Results AFTER REMOVING STOPWORDS AND PUNCTUATIONS:\")\n",
    "svm_model = LinearSVC(max_iter=10000)\n",
    "svm_model.fit(X_train_SWR_bow, y_train_SWR)\n",
    "evaluate_model(svm_model, X_test_SWR_bow, y_test_SWR)"
   ]
  },
  {
   "cell_type": "code",
   "execution_count": 88,
   "id": "44cb9542-6c4c-4183-aa60-651fa0d75ae1",
   "metadata": {},
   "outputs": [],
   "source": [
    "df['OriginalTweet'] = df['OriginalTweet'].str.lower()"
   ]
  },
  {
   "cell_type": "code",
   "execution_count": 89,
   "id": "8bfc4b65-9e8c-4bf0-9ba4-4278a6f05cd0",
   "metadata": {},
   "outputs": [],
   "source": [
    "X_train_LC, X_test_LC, y_train_LC, y_test_LC = train_test_split(\n",
    "    df['OriginalTweet'], df['Sentiment'], test_size=0.2, random_state=42\n",
    ")"
   ]
  },
  {
   "cell_type": "code",
   "execution_count": 90,
   "id": "a25d2114-2fae-4155-b6f4-d72efd2e0ed5",
   "metadata": {},
   "outputs": [],
   "source": [
    "from sklearn.feature_extraction.text import CountVectorizer\n",
    "vectorizer = CountVectorizer()\n",
    "X_train_LC_bow = vectorizer.fit_transform(X_train_LC)  # Fit and transform training data\n",
    "X_test_LC_bow = vectorizer.transform(X_test_LC) "
   ]
  },
  {
   "cell_type": "code",
   "execution_count": 91,
   "id": "b13f8ffb-ffad-4263-9423-1649faa02a92",
   "metadata": {},
   "outputs": [
    {
     "name": "stdout",
     "output_type": "stream",
     "text": [
      "Naïve Bayes Results FOR LOWER CASE:\n",
      "Accuracy: 0.46\n",
      "Classification Report:\n",
      "                    precision    recall  f1-score   support\n",
      "\n",
      "Extremely Negative       0.67      0.22      0.33      1056\n",
      "Extremely Positive       0.64      0.31      0.42      1330\n",
      "          Negative       0.42      0.52      0.47      2006\n",
      "           Neutral       0.77      0.28      0.41      1553\n",
      "          Positive       0.40      0.72      0.51      2287\n",
      "\n",
      "          accuracy                           0.46      8232\n",
      "         macro avg       0.58      0.41      0.43      8232\n",
      "      weighted avg       0.55      0.46      0.44      8232\n",
      "\n",
      "Confusion Matrix:\n",
      "[[ 234    5  638   15  164]\n",
      " [   2  412   70    9  837]\n",
      " [  91   35 1051   57  772]\n",
      " [  10   27  349  441  726]\n",
      " [  12  169  403   51 1652]]\n",
      "\n",
      "\n"
     ]
    }
   ],
   "source": [
    "print(\"Naïve Bayes Results FOR LOWER CASE:\")\n",
    "nb_model = MultinomialNB()\n",
    "nb_model.fit(X_train_LC_bow, y_train_LC)\n",
    "evaluate_model(nb_model, X_test_LC_bow, y_test_LC)"
   ]
  },
  {
   "cell_type": "code",
   "execution_count": 92,
   "id": "00c200e3-9189-4eb6-be3f-0b62746f606a",
   "metadata": {},
   "outputs": [
    {
     "name": "stdout",
     "output_type": "stream",
     "text": [
      "Logistic Regression Results AFTER CHANGING TO LOWER CASE:\n",
      "Accuracy: 0.63\n",
      "Classification Report:\n",
      "                    precision    recall  f1-score   support\n",
      "\n",
      "Extremely Negative       0.67      0.58      0.62      1056\n",
      "Extremely Positive       0.72      0.64      0.68      1330\n",
      "          Negative       0.56      0.55      0.56      2006\n",
      "           Neutral       0.66      0.74      0.69      1553\n",
      "          Positive       0.59      0.63      0.61      2287\n",
      "\n",
      "          accuracy                           0.63      8232\n",
      "         macro avg       0.64      0.63      0.63      8232\n",
      "      weighted avg       0.63      0.63      0.63      8232\n",
      "\n",
      "Confusion Matrix:\n",
      "[[ 612   12  365   34   33]\n",
      " [   8  853   28   28  413]\n",
      " [ 240   49 1106  275  336]\n",
      " [  16   21  167 1143  206]\n",
      " [  41  249  299  260 1438]]\n",
      "\n",
      "\n"
     ]
    }
   ],
   "source": [
    "print(\"Logistic Regression Results AFTER CHANGING TO LOWER CASE:\")\n",
    "lr_model = LogisticRegression(max_iter=1000)\n",
    "lr_model.fit(X_train_LC_bow, y_train_LC)\n",
    "evaluate_model(lr_model, X_test_LC_bow, y_test_LC)"
   ]
  },
  {
   "cell_type": "code",
   "execution_count": 94,
   "id": "e48cb0ab-2275-49c9-80f5-66a50c0e0285",
   "metadata": {},
   "outputs": [
    {
     "name": "stdout",
     "output_type": "stream",
     "text": [
      "SVM Results AFTER AFTER CHANGING TO LOWER CASE:\n",
      "Accuracy: 0.55\n",
      "Classification Report:\n",
      "                    precision    recall  f1-score   support\n",
      "\n",
      "Extremely Negative       0.64      0.62      0.63      1056\n",
      "Extremely Positive       0.65      0.65      0.65      1330\n",
      "          Negative       0.48      0.45      0.46      2006\n",
      "           Neutral       0.59      0.66      0.62      1553\n",
      "          Positive       0.50      0.48      0.49      2287\n",
      "\n",
      "          accuracy                           0.55      8232\n",
      "         macro avg       0.57      0.57      0.57      8232\n",
      "      weighted avg       0.55      0.55      0.55      8232\n",
      "\n",
      "Confusion Matrix:\n",
      "[[ 651   11  304   39   51]\n",
      " [   6  858   63   38  365]\n",
      " [ 291   67  907  300  441]\n",
      " [  28   29  203 1030  263]\n",
      " [  46  358  432  348 1103]]\n",
      "\n",
      "\n"
     ]
    }
   ],
   "source": [
    "print(\"SVM Results AFTER AFTER CHANGING TO LOWER CASE:\")\n",
    "svm_model = LinearSVC(max_iter=10000)\n",
    "svm_model.fit(X_train_LC_bow, y_train_LC)\n",
    "evaluate_model(svm_model, X_test_LC_bow, y_test_LC)"
   ]
  },
  {
   "cell_type": "code",
   "execution_count": 95,
   "id": "9a7c5b7e-6adf-4150-80b6-5b548803cd87",
   "metadata": {},
   "outputs": [],
   "source": [
    "from sklearn.feature_extraction.text import TfidfVectorizer\n",
    "tfidf_vectorizer = TfidfVectorizer()\n",
    "X_train_tfidf = tfidf_vectorizer.fit_transform(X_train)\n",
    "X_test_tfidf = tfidf_vectorizer.transform(X_test)"
   ]
  },
  {
   "cell_type": "code",
   "execution_count": 96,
   "id": "070ab93a-ce73-42c7-ad53-af66901578f3",
   "metadata": {},
   "outputs": [
    {
     "name": "stdout",
     "output_type": "stream",
     "text": [
      "Naïve Bayes Results WITH TFIDF:\n",
      "Accuracy: 0.36\n",
      "Classification Report:\n",
      "                    precision    recall  f1-score   support\n",
      "\n",
      "Extremely Negative       1.00      0.01      0.02      1056\n",
      "Extremely Positive       0.91      0.01      0.01      1330\n",
      "          Negative       0.41      0.34      0.37      2006\n",
      "           Neutral       0.81      0.04      0.08      1553\n",
      "          Positive       0.33      0.94      0.49      2287\n",
      "\n",
      "          accuracy                           0.36      8232\n",
      "         macro avg       0.69      0.27      0.20      8232\n",
      "      weighted avg       0.62      0.36      0.25      8232\n",
      "\n",
      "Confusion Matrix:\n",
      "[[  12    0  624    0  420]\n",
      " [   0   10   25    1 1294]\n",
      " [   0    0  684    9 1313]\n",
      " [   0    0  210   64 1279]\n",
      " [   0    1  128    5 2153]]\n",
      "\n",
      "\n"
     ]
    }
   ],
   "source": [
    "print(\"Naïve Bayes Results WITH TFIDF:\")\n",
    "nb_model = MultinomialNB()\n",
    "nb_model.fit(X_train_tfidf, y_train)\n",
    "evaluate_model(nb_model, X_test_tfidf, y_test)"
   ]
  },
  {
   "cell_type": "code",
   "execution_count": 97,
   "id": "ab01ac42-86bc-4a2a-9884-3fc19b11392e",
   "metadata": {},
   "outputs": [
    {
     "name": "stdout",
     "output_type": "stream",
     "text": [
      "Logistic Regression Results WITH TFIDF:\n",
      "Accuracy: 0.58\n",
      "Classification Report:\n",
      "                    precision    recall  f1-score   support\n",
      "\n",
      "Extremely Negative       0.64      0.49      0.56      1056\n",
      "Extremely Positive       0.67      0.56      0.61      1330\n",
      "          Negative       0.52      0.53      0.52      2006\n",
      "           Neutral       0.65      0.65      0.65      1553\n",
      "          Positive       0.52      0.62      0.56      2287\n",
      "\n",
      "          accuracy                           0.58      8232\n",
      "         macro avg       0.60      0.57      0.58      8232\n",
      "      weighted avg       0.58      0.58      0.58      8232\n",
      "\n",
      "Confusion Matrix:\n",
      "[[ 521   12  423   40   60]\n",
      " [   7  744   43   32  504]\n",
      " [ 225   53 1058  238  432]\n",
      " [  13   24  210 1004  302]\n",
      " [  50  280  318  231 1408]]\n",
      "\n",
      "\n"
     ]
    }
   ],
   "source": [
    "print(\"Logistic Regression Results WITH TFIDF:\")\n",
    "lr_model = LogisticRegression(max_iter=500)\n",
    "lr_model.fit(X_train_tfidf, y_train)\n",
    "evaluate_model(lr_model, X_test_tfidf, y_test)"
   ]
  },
  {
   "cell_type": "code",
   "execution_count": 98,
   "id": "6848504f-9d92-4f97-bfc1-9d6a1ec0860c",
   "metadata": {},
   "outputs": [
    {
     "name": "stdout",
     "output_type": "stream",
     "text": [
      "SVM Results AFTER AFTER CHANGING TO LOWER CASE:\n",
      "Accuracy: 0.57\n",
      "Classification Report:\n",
      "                    precision    recall  f1-score   support\n",
      "\n",
      "Extremely Negative       0.60      0.63      0.61      1056\n",
      "Extremely Positive       0.60      0.67      0.64      1330\n",
      "          Negative       0.51      0.47      0.49      2006\n",
      "           Neutral       0.65      0.65      0.65      1553\n",
      "          Positive       0.51      0.50      0.51      2287\n",
      "\n",
      "          accuracy                           0.57      8232\n",
      "         macro avg       0.57      0.58      0.58      8232\n",
      "      weighted avg       0.56      0.57      0.56      8232\n",
      "\n",
      "Confusion Matrix:\n",
      "[[ 663   14  312   28   39]\n",
      " [  12  891   42   27  358]\n",
      " [ 356   62  945  233  410]\n",
      " [  24   34  200 1010  285]\n",
      " [  52  475  345  266 1149]]\n",
      "\n",
      "\n"
     ]
    }
   ],
   "source": [
    "print(\"SVM Results AFTER AFTER CHANGING TO LOWER CASE:\")\n",
    "svm_model = LinearSVC(max_iter=10000)\n",
    "svm_model.fit(X_train_tfidf, y_train)\n",
    "evaluate_model(svm_model, X_test_tfidf, y_test)"
   ]
  },
  {
   "cell_type": "code",
   "execution_count": 107,
   "id": "1065dc08-4a87-429b-91e0-f945913bc601",
   "metadata": {},
   "outputs": [],
   "source": [
    "import numpy as np\n",
    "\n",
    "# Updated data for three models\n",
    "models = {\n",
    "    'Naïve Bayes': {\n",
    "        'classification_report': {\n",
    "            'Extremely Negative': {'precision': 0.67, 'recall': 0.22, 'f1-score': 0.33, 'support': 1056},\n",
    "            'Extremely Positive': {'precision': 0.64, 'recall': 0.31, 'f1-score': 0.42, 'support': 1330},\n",
    "            'Negative': {'precision': 0.42, 'recall': 0.52, 'f1-score': 0.47, 'support': 2006},\n",
    "            'Neutral': {'precision': 0.77, 'recall': 0.28, 'f1-score': 0.41, 'support': 1553},\n",
    "            'Positive': {'precision': 0.40, 'recall': 0.72, 'f1-score': 0.51, 'support': 2287},\n",
    "        },\n",
    "        'confusion_matrix': np.array([\n",
    "            [234, 5, 638, 15, 164],\n",
    "            [2, 412, 70, 9, 837],\n",
    "            [91, 35, 1051, 57, 772],\n",
    "            [10, 27, 349, 441, 726],\n",
    "            [12, 169, 403, 51, 1652]\n",
    "        ])\n",
    "    },\n",
    "    'Logistic Regression': {\n",
    "        'classification_report': {\n",
    "            'Extremely Negative': {'precision': 0.67, 'recall': 0.58, 'f1-score': 0.62, 'support': 1056},\n",
    "            'Extremely Positive': {'precision': 0.72, 'recall': 0.64, 'f1-score': 0.68, 'support': 1330},\n",
    "            'Negative': {'precision': 0.56, 'recall': 0.55, 'f1-score': 0.56, 'support': 2006},\n",
    "            'Neutral': {'precision': 0.66, 'recall': 0.74, 'f1-score': 0.69, 'support': 1553},\n",
    "            'Positive': {'precision': 0.59, 'recall': 0.63, 'f1-score': 0.61, 'support': 2287},\n",
    "        },\n",
    "        'confusion_matrix': np.array([\n",
    "            [612, 12, 365, 34, 33],\n",
    "            [8, 853, 28, 28, 413],\n",
    "            [240, 49, 1106, 275, 336],\n",
    "            [16, 21, 167, 1143, 206],\n",
    "            [41, 249, 299, 260, 1438]\n",
    "        ])\n",
    "    },\n",
    "    'SVM': {\n",
    "        'classification_report': {\n",
    "            'Extremely Negative': {'precision': 0.64, 'recall': 0.62, 'f1-score': 0.63, 'support': 1056},\n",
    "            'Extremely Positive': {'precision': 0.65, 'recall': 0.65, 'f1-score': 0.65, 'support': 1330},\n",
    "            'Negative': {'precision': 0.48, 'recall': 0.45, 'f1-score': 0.46, 'support': 2006},\n",
    "            'Neutral': {'precision': 0.59, 'recall': 0.66, 'f1-score': 0.62, 'support': 1553},\n",
    "            'Positive': {'precision': 0.50, 'recall': 0.48, 'f1-score': 0.49, 'support': 2287},\n",
    "        },\n",
    "        'confusion_matrix': np.array([\n",
    "            [651, 11, 304, 39, 51],\n",
    "            [6, 858, 63, 38, 365],\n",
    "            [291, 67, 907, 300, 441],\n",
    "            [28, 29, 203, 1030, 263],\n",
    "            [46, 358, 432, 348, 1103]\n",
    "        ])\n",
    "    }\n",
    "}"
   ]
  },
  {
   "cell_type": "code",
   "execution_count": 111,
   "id": "970cdbd7-0e5b-4620-806f-d7ef4ac95a20",
   "metadata": {},
   "outputs": [
    {
     "data": {
      "image/png": "[encoded data removed]",
      "text/plain": [
       "<Figure size 1800x800 with 1 Axes>"
      ]
     },
     "metadata": {},
     "output_type": "display_data"
    }
   ],
   "source": [
    "import matplotlib.pyplot as plt\n",
    "import numpy as np\n",
    "\n",
    "# Class labels\n",
    "classes = ['Extremely Negative', 'Extremely Positive', 'Negative', 'Neutral', 'Positive']\n",
    "metrics = ['precision', 'recall', 'f1-score', 'support']\n",
    "\n",
    "# Create a grouped bar plot for each metric\n",
    "x = np.arange(len(classes))  # Class labels\n",
    "width = 0.2  # Width of the bars\n",
    "\n",
    "fig, ax = plt.subplots(figsize=(18, 8))\n",
    "\n",
    "# Plot bars for each model\n",
    "for i, model_name in enumerate(models.keys()):\n",
    "    metric_scores = [models[model_name]['classification_report'][cls][metric] for cls in classes]\n",
    "    ax.bar(x + i * width, metric_scores, width, label=model_name)\n",
    "\n",
    "# Customize the plot\n",
    "ax.set_xlabel('Class', fontsize=12)\n",
    "ax.set_ylabel('Score', fontsize=12)\n",
    "ax.set_title('Precision, Recall, F1-Score and support by Class and Model', fontsize=18, fontweight='bold')\n",
    "ax.set_xticks(x + width)\n",
    "ax.set_xticklabels(classes, fontsize=10, rotation=45)\n",
    "ax.legend(fontsize=10)\n",
    "\n",
    "# Display the plot\n",
    "plt.tight_layout()\n",
    "plt.show()"
   ]
  },
  {
   "cell_type": "code",
   "execution_count": 109,
   "id": "a1f30c6b-c0e2-46f6-939a-1d78e1bc7b25",
   "metadata": {},
   "outputs": [
    {
     "data": {
      "image/png": "[encoded data removed]",
      "text/plain": [
       "<Figure size 1800x600 with 6 Axes>"
      ]
     },
     "metadata": {},
     "output_type": "display_data"
    }
   ],
   "source": [
    "import seaborn as sns\n",
    "\n",
    "# Plot confusion matrices side by side\n",
    "fig, axes = plt.subplots(1, 3, figsize=(18, 6))\n",
    "\n",
    "for i, (model_name, model_data) in enumerate(models.items()):\n",
    "    sns.heatmap(model_data['confusion_matrix'], annot=True, fmt='d', cmap='Blues', \n",
    "                xticklabels=classes, yticklabels=classes, ax=axes[i])\n",
    "    axes[i].set_title(f'Confusion Matrix for {model_name}', fontsize=14)\n",
    "    axes[i].set_xlabel('Predicted', fontsize=12)\n",
    "    axes[i].set_ylabel('Actual', fontsize=12)\n",
    "\n",
    "plt.tight_layout()\n",
    "plt.show()"
   ]
  },
  {
   "cell_type": "code",
   "execution_count": 102,
   "id": "b42bf70c-9f70-4ebc-a4e6-af50b20350eb",
   "metadata": {},
   "outputs": [
    {
     "name": "stdout",
     "output_type": "stream",
     "text": [
      "Unique Labels: ['Extremely Negative' 'Extremely Positive' 'Negative' 'Neutral' 'Positive']\n",
      "Tweet: This is the worst experience I've ever had. Terrible service!\n",
      "Predicted Sentiment: Extremely Negative\n",
      "\n",
      "Tweet: The product is okay, but it could be better.\n",
      "Predicted Sentiment: Extremely Positive\n",
      "\n",
      "Tweet: I'm so happy with my purchase! Everything works perfectly.\n",
      "Predicted Sentiment: Extremely Positive\n",
      "\n",
      "Tweet: I feel neutral about this. It's neither good nor bad.\n",
      "Predicted Sentiment: Extremely Positive\n",
      "\n",
      "Tweet: The service was fine, but nothing special.\n",
      "Predicted Sentiment: Extremely Positive\n",
      "\n"
     ]
    }
   ],
   "source": [
    "# List of example tweets\n",
    "tweets = [\n",
    "    \"This is the worst experience I've ever had. Terrible service!\",  # Extremely Negative\n",
    "    \"The product is okay, but it could be better.\",  # Neutral\n",
    "    \"I'm so happy with my purchase! Everything works perfectly.\",  # Extremely Positive\n",
    "    \"I feel neutral about this. It's neither good nor bad.\",  # Neutral\n",
    "    \"The service was fine, but nothing special.\"  # Neutral\n",
    "]\n",
    "\n",
    "# Check unique labels in the model\n",
    "unique_labels = lr_model.classes_\n",
    "print(\"Unique Labels:\", unique_labels)\n",
    "\n",
    "# Define sentiment_classes based on the model's output labels\n",
    "if isinstance(unique_labels[0], str):\n",
    "    # If the model outputs string labels directly\n",
    "    sentiment_classes = {label: label for label in unique_labels}\n",
    "else:\n",
    "    # If the model outputs integer labels\n",
    "    sentiment_classes = {\n",
    "        0: 'Extremely Negative',\n",
    "        1: 'Extremely Positive',\n",
    "        2: 'Negative',\n",
    "        3: 'Neutral',\n",
    "        4: 'Positive'\n",
    "    }\n",
    "\n",
    "# Classify each tweet\n",
    "for tweet in tweets:\n",
    "    preprocessed_tweet = preprocess_text(tweet)\n",
    "    tweet_features = vectorizer.transform([preprocessed_tweet])\n",
    "    predicted_sentiment = lr_model.predict(tweet_features)\n",
    "    print(f\"Tweet: {tweet}\")\n",
    "    print(f\"Predicted Sentiment: {sentiment_classes[predicted_sentiment[0]]}\")\n",
    "    print()"
   ]
  },
  {
   "cell_type": "code",
   "execution_count": 103,
   "id": "696ef415-5343-4e4d-9ee7-8f62e2d85ddd",
   "metadata": {},
   "outputs": [
    {
     "name": "stdout",
     "output_type": "stream",
     "text": [
      "Unique Labels: ['Extremely Negative' 'Extremely Positive' 'Negative' 'Neutral' 'Positive']\n",
      "Tweet: This is the worst experience I've ever had. Terrible service!\n",
      "Predicted Sentiment: Extremely Negative\n",
      "\n",
      "Tweet: The product is okay, but it could be better.\n",
      "Predicted Sentiment: Positive\n",
      "\n",
      "Tweet: I'm so happy with my purchase! Everything works perfectly.\n",
      "Predicted Sentiment: Positive\n",
      "\n",
      "Tweet: I feel neutral about this. It's neither good nor bad.\n",
      "Predicted Sentiment: Positive\n",
      "\n",
      "Tweet: The service was fine, but nothing special.\n",
      "Predicted Sentiment: Positive\n",
      "\n"
     ]
    }
   ],
   "source": [
    "# List of example tweets\n",
    "tweets = [\n",
    "    \"This is the worst experience I've ever had. Terrible service!\",  # Extremely Negative\n",
    "    \"The product is okay, but it could be better.\",  # Neutral\n",
    "    \"I'm so happy with my purchase! Everything works perfectly.\",  # Extremely Positive\n",
    "    \"I feel neutral about this. It's neither good nor bad.\",  # Neutral\n",
    "    \"The service was fine, but nothing special.\"  # Neutral\n",
    "]\n",
    "\n",
    "# Check unique labels in the model\n",
    "unique_labels = nb_model.classes_\n",
    "print(\"Unique Labels:\", unique_labels)\n",
    "\n",
    "# Define sentiment_classes based on the model's output labels\n",
    "if isinstance(unique_labels[0], str):\n",
    "    # If the model outputs string labels directly\n",
    "    sentiment_classes = {label: label for label in unique_labels}\n",
    "else:\n",
    "    # If the model outputs integer labels\n",
    "    sentiment_classes = {\n",
    "        0: 'Extremely Negative',\n",
    "        1: 'Extremely Positive',\n",
    "        2: 'Negative',\n",
    "        3: 'Neutral',\n",
    "        4: 'Positive'\n",
    "    }\n",
    "\n",
    "# Classify each tweet\n",
    "for tweet in tweets:\n",
    "    preprocessed_tweet = preprocess_text(tweet)\n",
    "    tweet_features = vectorizer.transform([preprocessed_tweet])\n",
    "    predicted_sentiment = nb_model.predict(tweet_features)\n",
    "    print(f\"Tweet: {tweet}\")\n",
    "    print(f\"Predicted Sentiment: {sentiment_classes[predicted_sentiment[0]]}\")\n",
    "    print()"
   ]
  },
  {
   "cell_type": "code",
   "execution_count": 106,
   "id": "36f55026-6678-40fe-9f3a-393fc7119ca2",
   "metadata": {},
   "outputs": [
    {
     "name": "stdout",
     "output_type": "stream",
     "text": [
      "Unique Labels: ['Extremely Negative' 'Extremely Positive' 'Negative' 'Neutral' 'Positive']\n",
      "Tweet: This is the worst experience I've ever had. Terrible service!\n",
      "Predicted Sentiment: Extremely Negative\n",
      "\n",
      "Tweet: The product is okay, but it could be better.\n",
      "Predicted Sentiment: Extremely Positive\n",
      "\n",
      "Tweet: I'm so happy with my purchase! Everything works perfectly.\n",
      "Predicted Sentiment: Extremely Positive\n",
      "\n",
      "Tweet: I feel neutral about this. It's neither good nor bad.\n",
      "Predicted Sentiment: Extremely Negative\n",
      "\n",
      "Tweet: The service was fine, but nothing special.\n",
      "Predicted Sentiment: Extremely Positive\n",
      "\n"
     ]
    }
   ],
   "source": [
    "# List of example tweets\n",
    "tweets = [\n",
    "    \"This is the worst experience I've ever had. Terrible service!\",  # Extremely Negative\n",
    "    \"The product is okay, but it could be better.\",  # Neutral\n",
    "    \"I'm so happy with my purchase! Everything works perfectly.\",  # Extremely Positive\n",
    "    \"I feel neutral about this. It's neither good nor bad.\",  # Neutral\n",
    "    \"The service was fine, but nothing special.\"  # Neutral\n",
    "]\n",
    "\n",
    "# Check unique labels in the model\n",
    "unique_labels = svm_model.classes_\n",
    "print(\"Unique Labels:\", unique_labels)\n",
    "\n",
    "# Define sentiment_classes based on the model's output labels\n",
    "if isinstance(unique_labels[0], str):\n",
    "    # If the model outputs string labels directly\n",
    "    sentiment_classes = {label: label for label in unique_labels}\n",
    "else:\n",
    "    # If the model outputs integer labels\n",
    "    sentiment_classes = {\n",
    "        0: 'Extremely Negative',\n",
    "        1: 'Extremely Positive',\n",
    "        2: 'Negative',\n",
    "        3: 'Neutral',\n",
    "        4: 'Positive'\n",
    "    }\n",
    "\n",
    "# Classify each tweet\n",
    "for tweet in tweets:\n",
    "    preprocessed_tweet = preprocess_text(tweet)\n",
    "    tweet_features = vectorizer.transform([preprocessed_tweet])\n",
    "    predicted_sentiment = svm_model.predict(tweet_features)\n",
    "    print(f\"Tweet: {tweet}\")\n",
    "    print(f\"Predicted Sentiment: {sentiment_classes[predicted_sentiment[0]]}\")\n",
    "    print()"
   ]
  },
  {
   "cell_type": "code",
   "execution_count": null,
   "id": "872da63e-3308-4e80-b19c-035afff2b7fc",
   "metadata": {},
   "outputs": [],
   "source": []
  }
 ],
 "metadata": {
  "kernelspec": {
   "display_name": "Python 3 (ipykernel)",
   "language": "python",
   "name": "python3"
  },
  "language_info": {
   "codemirror_mode": {
    "name": "ipython",
    "version": 3
   },
   "file_extension": ".py",
   "mimetype": "text/x-python",
   "name": "python",
   "nbconvert_exporter": "python",
   "pygments_lexer": "ipython3",
   "version": "3.12.0"
  }
 },
 "nbformat": 4,
 "nbformat_minor": 5
}
