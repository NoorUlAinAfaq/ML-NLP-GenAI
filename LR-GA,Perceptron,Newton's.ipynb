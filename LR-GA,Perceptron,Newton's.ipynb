{
 "cells": [
  {
   "cell_type": "code",
   "execution_count": 43,
   "id": "11142d9a-ab08-49f1-b011-260a49c6378a",
   "metadata": {},
   "outputs": [],
   "source": [
    "import pandas as pd\n",
    "import numpy as np\n",
    "from sklearn.model_selection import train_test_split\n",
    "from sklearn.preprocessing import StandardScaler, LabelEncoder\n",
    "\n",
    "# Load your dataset\n",
    "data = pd.read_csv(\"train.csv\") \n",
    "\n",
    "# Drop columns we won't use (e.g., id, CustomerId, Surname)\n",
    "data = data.drop(columns=['id', 'CustomerId', 'Surname'])\n",
    "\n",
    "# Encode categorical features\n",
    "le = LabelEncoder()\n",
    "data['Geography'] = le.fit_transform(data['Geography'])  # e.g., France=0, Spain=1, Germany=2\n",
    "data['Gender'] = le.fit_transform(data['Gender'])        # Male=1, Female=0\n",
    "\n",
    "# Separate features and target\n",
    "X = data.drop(columns=['Exited']).values\n",
    "y = data['Exited'].values\n",
    "\n",
    "# Normalize numerical features\n",
    "scaler = StandardScaler()\n",
    "X = scaler.fit_transform(X)\n",
    "\n",
    "# Add bias term\n",
    "X = np.hstack((np.ones((X.shape[0], 1)), X))  # shape: (n_samples, n_features+1)\n",
    "\n",
    "# Train/test split\n",
    "X_train, X_test, y_train, y_test = train_test_split(X, y, test_size=0.2, random_state=42)\n"
   ]
  },
  {
   "cell_type": "code",
   "execution_count": 44,
   "id": "178b8d0a-b6f1-4058-878e-f6e2d02a0fed",
   "metadata": {},
   "outputs": [],
   "source": [
    "def sigmoid(z):\n",
    "    return 1 / (1 + np.exp(-z))\n",
    "\n",
    "def predict(X, weights):\n",
    "    return (sigmoid(np.dot(X, weights)) >= 0.5).astype(int)\n"
   ]
  },
  {
   "cell_type": "code",
   "execution_count": 45,
   "id": "66364f88-e681-496d-8b5e-e9510a1376a6",
   "metadata": {},
   "outputs": [],
   "source": [
    "def logistic_regression_gradient_ascent(X, y, lr=0.01, epochs=1000):\n",
    "    m, n = X.shape\n",
    "    weights = np.zeros(n)\n",
    "\n",
    "    for _ in range(epochs):\n",
    "        z = np.dot(X, weights)\n",
    "        predictions = sigmoid(z)\n",
    "        gradient = np.dot(X.T, y - predictions)\n",
    "        weights += lr * gradient\n",
    "\n",
    "    return weights\n"
   ]
  },
  {
   "cell_type": "code",
   "execution_count": 46,
   "id": "2114a052-a2ce-4009-b674-e6f8b92b46fc",
   "metadata": {},
   "outputs": [],
   "source": [
    "def perceptron(X, y, epochs=100):\n",
    "    m, n = X.shape\n",
    "    weights = np.zeros(n)\n",
    "    y_ = np.where(y == 0, -1, 1)\n",
    "\n",
    "    for _ in range(epochs):      # Repeat over the dataset\n",
    "        for i in range(m):       # Go through each sample\n",
    "            if y_[i] * np.dot(X[i], weights) <= 0:\n",
    "                weights += y_[i] * X[i]\n",
    "    return weights\n"
   ]
  },
  {
   "cell_type": "code",
   "execution_count": 47,
   "id": "79a3ef18-74b8-40ce-beb2-cc2b0e6e51c8",
   "metadata": {},
   "outputs": [],
   "source": [
    "def logistic_regression_newton(X, y, epochs=10):\n",
    "    m, n = X.shape\n",
    "    weights = np.zeros(n)\n",
    "\n",
    "    for _ in range(epochs):\n",
    "        z = np.dot(X, weights)\n",
    "        h = sigmoid(z)\n",
    "        gradient = np.dot(X.T, y - h)\n",
    "        diag = h * (1 - h)\n",
    "        H = -np.dot(X.T, diag[:, np.newaxis] * X)\n",
    "        weights -= np.linalg.pinv(H).dot(gradient)  # Use pseudo-inverse to avoid singular errors\n",
    "\n",
    "    return weights\n"
   ]
  },
  {
   "cell_type": "code",
   "execution_count": 48,
   "id": "1b85da5f-d6e5-4fcc-886a-c97ad276148e",
   "metadata": {},
   "outputs": [
    {
     "name": "stderr",
     "output_type": "stream",
     "text": [
      "C:\\Users\\InaequoSolutions-PC\\AppData\\Local\\Temp\\ipykernel_23460\\4236883662.py:2: RuntimeWarning: overflow encountered in exp\n",
      "  return 1 / (1 + np.exp(-z))\n"
     ]
    },
    {
     "name": "stdout",
     "output_type": "stream",
     "text": [
      "Gradient Ascent Accuracy: 0.6413185081952313\n"
     ]
    },
    {
     "ename": "ValueError",
     "evalue": "operands could not be broadcast together with shapes (33007,11) (33007,) ",
     "output_type": "error",
     "traceback": [
      "\u001b[1;31m---------------------------------------------------------------------------\u001b[0m",
      "\u001b[1;31mValueError\u001b[0m                                Traceback (most recent call last)",
      "Cell \u001b[1;32mIn[48], line 21\u001b[0m\n\u001b[0;32m     18\u001b[0m     \u001b[38;5;28;01mreturn\u001b[39;00m np\u001b[38;5;241m.\u001b[39mmean(y_true \u001b[38;5;241m==\u001b[39m y_pred)\n\u001b[0;32m     20\u001b[0m \u001b[38;5;28mprint\u001b[39m(\u001b[38;5;124m\"\u001b[39m\u001b[38;5;124mGradient Ascent Accuracy:\u001b[39m\u001b[38;5;124m\"\u001b[39m, accuracy(y_test, preds_ga))\n\u001b[1;32m---> 21\u001b[0m \u001b[38;5;28mprint\u001b[39m(\u001b[38;5;124m\"\u001b[39m\u001b[38;5;124mPerceptron Accuracy:\u001b[39m\u001b[38;5;124m\"\u001b[39m, \u001b[43maccuracy\u001b[49m\u001b[43m(\u001b[49m\u001b[43mX_test\u001b[49m\u001b[43m,\u001b[49m\u001b[43m \u001b[49m\u001b[43my_test\u001b[49m\u001b[43m)\u001b[49m)\n\u001b[0;32m     22\u001b[0m \u001b[38;5;28mprint\u001b[39m(\u001b[38;5;124m\"\u001b[39m\u001b[38;5;124mNewton’s Method Accuracy:\u001b[39m\u001b[38;5;124m\"\u001b[39m, accuracy(y_test, preds_newton))\n",
      "Cell \u001b[1;32mIn[48], line 18\u001b[0m, in \u001b[0;36maccuracy\u001b[1;34m(y_true, y_pred)\u001b[0m\n\u001b[0;32m     17\u001b[0m \u001b[38;5;28;01mdef\u001b[39;00m \u001b[38;5;21maccuracy\u001b[39m(y_true, y_pred):\n\u001b[1;32m---> 18\u001b[0m     \u001b[38;5;28;01mreturn\u001b[39;00m np\u001b[38;5;241m.\u001b[39mmean(\u001b[43my_true\u001b[49m\u001b[43m \u001b[49m\u001b[38;5;241;43m==\u001b[39;49m\u001b[43m \u001b[49m\u001b[43my_pred\u001b[49m)\n",
      "\u001b[1;31mValueError\u001b[0m: operands could not be broadcast together with shapes (33007,11) (33007,) "
     ]
    }
   ],
   "source": [
    "# Train models\n",
    "#from sklearn.linear_model import Perceptron\n",
    "#model = Perceptron(max_iter=1000, tol=1e-3)\n",
    "#model.fit(X_train, y_train)\n",
    "\n",
    "\n",
    "weights_ga = logistic_regression_gradient_ascent(X_train, y_train)\n",
    "weights_perceptron = perceptron(X_train, y_train)\n",
    "weights_newton = logistic_regression_newton(X_train, y_train)\n",
    "\n",
    "# Predict\n",
    "preds_ga = predict(X_test, weights_ga)\n",
    "preds_perceptron = predict(X_test, weights_perceptron)\n",
    "preds_newton = predict(X_test, weights_newton)\n",
    "\n",
    "# Evaluate\n",
    "def accuracy(y_true, y_pred):\n",
    "    return np.mean(y_true == y_pred)\n",
    "\n",
    "print(\"Gradient Ascent Accuracy:\", accuracy(y_test, preds_ga))\n",
    "print(\"Perceptron Accuracy:\", accuracy(X_test, y_test))\n",
    "print(\"Newton’s Method Accuracy:\", accuracy(y_test, preds_newton))\n"
   ]
  },
  {
   "cell_type": "code",
   "execution_count": null,
   "id": "e139d202-18a0-4b12-a5da-67b4594509f6",
   "metadata": {},
   "outputs": [],
   "source": []
  }
 ],
 "metadata": {
  "kernelspec": {
   "display_name": "Python 3 (ipykernel)",
   "language": "python",
   "name": "python3"
  },
  "language_info": {
   "codemirror_mode": {
    "name": "ipython",
    "version": 3
   },
   "file_extension": ".py",
   "mimetype": "text/x-python",
   "name": "python",
   "nbconvert_exporter": "python",
   "pygments_lexer": "ipython3",
   "version": "3.12.0"
  }
 },
 "nbformat": 4,
 "nbformat_minor": 5
}
